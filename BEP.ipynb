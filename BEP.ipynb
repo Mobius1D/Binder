{
 "cells": [
  {
   "cell_type": "code",
   "execution_count": null,
   "id": "39a221d5-bd1d-421e-82fd-4220c329e7ce",
   "metadata": {},
   "outputs": [],
   "source": [
    "F = 600"
   ]
  },
  {
   "cell_type": "code",
   "execution_count": null,
   "id": "7c55bc19-9569-4b07-9609-b53228974e08",
   "metadata": {},
   "outputs": [],
   "source": [
    "P = 800"
   ]
  },
  {
   "cell_type": "code",
   "execution_count": null,
   "id": "54d24b42-8e55-4e1a-89dd-2dd3d57af34c",
   "metadata": {},
   "outputs": [],
   "source": [
    "s = 20"
   ]
  },
  {
   "cell_type": "code",
   "execution_count": null,
   "id": "24aa0d52-a8ce-4254-ac2e-536b67c9361e",
   "metadata": {},
   "outputs": [],
   "source": [
    "v = 40"
   ]
  },
  {
   "cell_type": "code",
   "execution_count": null,
   "id": "73ef7d6e-abfc-4218-a5e6-10c904bc01e4",
   "metadata": {},
   "outputs": [],
   "source": [
    "x = (F+P)/(s-v)"
   ]
  },
  {
   "cell_type": "code",
   "execution_count": null,
   "id": "0ea8ab86-0d3b-4692-bdb4-b91172fca8ab",
   "metadata": {},
   "outputs": [],
   "source": [
    "BEP = F / (s-v)"
   ]
  },
  {
   "cell_type": "code",
   "execution_count": null,
   "id": "b5df81e4-54ca-440c-b7ee-749526afdb88",
   "metadata": {},
   "outputs": [],
   "source": [
    "BEPₛ = (F*s)/(s-v)"
   ]
  }
 ],
 "metadata": {
  "kernelspec": {
   "display_name": "Julia 1.7.0",
   "language": "julia",
   "name": "julia-1.7"
  },
  "language_info": {
   "file_extension": ".jl",
   "mimetype": "application/julia",
   "name": "julia",
   "version": "1.7.0"
  }
 },
 "nbformat": 4,
 "nbformat_minor": 5
}
