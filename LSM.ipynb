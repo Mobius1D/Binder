{
 "cells": [
  {
   "cell_type": "code",
   "execution_count": 2,
   "id": "f20ef2e0-af61-4675-8580-4f94ca554c68",
   "metadata": {},
   "outputs": [],
   "source": [
    "using Statistics"
   ]
  },
  {
   "cell_type": "code",
   "execution_count": 1,
   "id": "71a87a52-c1a8-43c7-be19-f5ba3d5d0551",
   "metadata": {},
   "outputs": [
    {
     "data": {
      "text/plain": [
       "2001:2010"
      ]
     },
     "execution_count": 1,
     "metadata": {},
     "output_type": "execute_result"
    }
   ],
   "source": [
    "X = 2001:2010"
   ]
  },
  {
   "cell_type": "code",
   "execution_count": 3,
   "id": "74eff41d-d902-4495-8867-6ced556f211b",
   "metadata": {},
   "outputs": [
    {
     "data": {
      "text/plain": [
       "-4.5:1.0:4.5"
      ]
     },
     "execution_count": 3,
     "metadata": {},
     "output_type": "execute_result"
    }
   ],
   "source": [
    "X_n = X .- mean(X)"
   ]
  },
  {
   "cell_type": "code",
   "execution_count": 9,
   "id": "2f3441f6-4133-4920-9c6b-b5828ac79c15",
   "metadata": {},
   "outputs": [
    {
     "data": {
      "text/plain": [
       "10-element Vector{Int64}:\n",
       " 30\n",
       " 33\n",
       " 37\n",
       " 39\n",
       " 42\n",
       " 46\n",
       " 48\n",
       " 50\n",
       " 55\n",
       " 58"
      ]
     },
     "execution_count": 9,
     "metadata": {},
     "output_type": "execute_result"
    }
   ],
   "source": [
    "Y = [30, 33, 37, 39, 42, 46, 48, 50, 55, 58]"
   ]
  },
  {
   "cell_type": "code",
   "execution_count": 4,
   "id": "8e7e16c5-eb5f-4523-953f-2dee60b5d5ce",
   "metadata": {},
   "outputs": [
    {
     "data": {
      "text/plain": [
       "-9.0:2.0:9.0"
      ]
     },
     "execution_count": 4,
     "metadata": {},
     "output_type": "execute_result"
    }
   ],
   "source": [
    "Xₙ = X_n .* 2"
   ]
  },
  {
   "cell_type": "code",
   "execution_count": 5,
   "id": "59e501f4-2433-4d2e-8ce3-23403da49022",
   "metadata": {},
   "outputs": [
    {
     "data": {
      "text/plain": [
       "0"
      ]
     },
     "execution_count": 5,
     "metadata": {},
     "output_type": "execute_result"
    }
   ],
   "source": [
    "s_X = 0"
   ]
  },
  {
   "cell_type": "code",
   "execution_count": 7,
   "id": "db72b258-45bf-43cc-b31c-9b8e1422c859",
   "metadata": {},
   "outputs": [
    {
     "data": {
      "text/plain": [
       "330.0"
      ]
     },
     "execution_count": 7,
     "metadata": {},
     "output_type": "execute_result"
    }
   ],
   "source": [
    "s_X_sq = sum(Xₙ.^2)"
   ]
  },
  {
   "cell_type": "code",
   "execution_count": 11,
   "id": "b68d102f-a104-4972-bbeb-504d9ad05758",
   "metadata": {},
   "outputs": [
    {
     "data": {
      "text/plain": [
       "502.0"
      ]
     },
     "execution_count": 11,
     "metadata": {},
     "output_type": "execute_result"
    }
   ],
   "source": [
    "s_XY = sum(Xₙ.*Y)"
   ]
  },
  {
   "cell_type": "code",
   "execution_count": 12,
   "id": "be69cf21-6ac2-4d90-b7c5-38824e320ae0",
   "metadata": {},
   "outputs": [
    {
     "data": {
      "text/plain": [
       "1.5212121212121212"
      ]
     },
     "execution_count": 12,
     "metadata": {},
     "output_type": "execute_result"
    }
   ],
   "source": [
    "b = s_XY / s_X_sq"
   ]
  },
  {
   "cell_type": "code",
   "execution_count": 15,
   "id": "4cc75bd8-4bdc-4b38-8e49-f113c77c181b",
   "metadata": {},
   "outputs": [
    {
     "data": {
      "text/plain": [
       "43.8"
      ]
     },
     "execution_count": 15,
     "metadata": {},
     "output_type": "execute_result"
    }
   ],
   "source": [
    "a = sum(Y) / length(Y)"
   ]
  }
 ],
 "metadata": {
  "kernelspec": {
   "display_name": "Julia 1.7.0",
   "language": "julia",
   "name": "julia-1.7"
  },
  "language_info": {
   "file_extension": ".jl",
   "mimetype": "application/julia",
   "name": "julia",
   "version": "1.7.0"
  }
 },
 "nbformat": 4,
 "nbformat_minor": 5
}
