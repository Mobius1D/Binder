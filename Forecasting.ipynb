{
 "cells": [
  {
   "cell_type": "code",
   "execution_count": 1,
   "id": "4588a366-6eb6-4f44-98b8-d9e42582d8d7",
   "metadata": {},
   "outputs": [
    {
     "name": "stderr",
     "output_type": "stream",
     "text": [
      "\u001b[32m\u001b[1m    Updating\u001b[22m\u001b[39m registry at `/srv/julia/pkg/registries/General.toml`\n",
      "\u001b[32m\u001b[1m   Resolving\u001b[22m\u001b[39m package versions...\n",
      "\u001b[32m\u001b[1m  No Changes\u001b[22m\u001b[39m to `~/Project.toml`\n",
      "\u001b[32m\u001b[1m  No Changes\u001b[22m\u001b[39m to `~/Manifest.toml`\n"
     ]
    }
   ],
   "source": [
    "]add Statistics"
   ]
  },
  {
   "cell_type": "code",
   "execution_count": 2,
   "id": "554aad1a-ddc0-4709-b754-a8cd382bce84",
   "metadata": {},
   "outputs": [],
   "source": [
    "using Statistics: mean"
   ]
  },
  {
   "cell_type": "code",
   "execution_count": 3,
   "id": "ff6adc9f-b27a-4f10-9520-23a0c1119848",
   "metadata": {},
   "outputs": [
    {
     "data": {
      "text/plain": [
       "moving_average (generic function with 1 method)"
      ]
     },
     "execution_count": 3,
     "metadata": {},
     "output_type": "execute_result"
    }
   ],
   "source": [
    "moving_average(vs,n) = [sum(@view vs[i:(i+n-1)])/n for i in 1:(length(vs)-(n-1))]"
   ]
  },
  {
   "cell_type": "code",
   "execution_count": 4,
   "id": "02071631-4d28-40bf-b108-e9aa89d40b10",
   "metadata": {},
   "outputs": [
    {
     "data": {
      "text/plain": [
       "weighted_sum (generic function with 1 method)"
      ]
     },
     "execution_count": 4,
     "metadata": {},
     "output_type": "execute_result"
    }
   ],
   "source": [
    "weighted_sum(m, n) = sum([i*m[i] for i in 1:n])"
   ]
  },
  {
   "cell_type": "code",
   "execution_count": 5,
   "id": "b72a9714-aee8-47d0-92d8-9dbf22f1bfcd",
   "metadata": {},
   "outputs": [
    {
     "data": {
      "text/plain": [
       "weighted_moving_average (generic function with 1 method)"
      ]
     },
     "execution_count": 5,
     "metadata": {},
     "output_type": "execute_result"
    }
   ],
   "source": [
    "weighted_moving_average(vs,n) = [weighted_sum(vs[i:(i+n-1)], n)/sum(1:n) for i in 1:(length(vs)-(n-1))]"
   ]
  },
  {
   "cell_type": "code",
   "execution_count": 6,
   "id": "1117f827-a50f-4a15-b25c-2a896563809b",
   "metadata": {},
   "outputs": [
    {
     "data": {
      "text/plain": [
       "7-element Vector{Int64}:\n",
       " 120\n",
       " 110\n",
       " 130\n",
       " 120\n",
       " 180\n",
       " 240\n",
       " 160"
      ]
     },
     "execution_count": 6,
     "metadata": {},
     "output_type": "execute_result"
    }
   ],
   "source": [
    "X = [120, 110, 130, 120, 180, 240, 160]"
   ]
  },
  {
   "cell_type": "markdown",
   "id": "33693691-63dd-4fec-a213-ceee4f3151eb",
   "metadata": {},
   "source": [
    "# weighted_moving_average(X, 4)"
   ]
  },
  {
   "cell_type": "code",
   "execution_count": 7,
   "id": "28be1d7a-f293-4c4d-adc6-ef3e0af11c4b",
   "metadata": {},
   "outputs": [
    {
     "data": {
      "text/plain": [
       "ema (generic function with 1 method)"
      ]
     },
     "execution_count": 7,
     "metadata": {},
     "output_type": "execute_result"
    }
   ],
   "source": [
    "function ema(A, alpha)\n",
    "    # fast exponential moving average: X - moving average, A - data,\n",
    "    # alpha - exponential forgetting parameter\n",
    "    n = length(A)\n",
    "    X = zeros(n+1) # Declare X\n",
    "    beta = 1-alpha\n",
    "    X[1] = A[1]\n",
    "    for k = 2:n+1\n",
    "        X[k] = X[k-1] + alpha*(A[k-1] - X[k-1])\n",
    "    end\n",
    "    return X\n",
    "end"
   ]
  },
  {
   "cell_type": "code",
   "execution_count": 8,
   "id": "41616879-35b2-4781-9bb4-70b530d3136c",
   "metadata": {},
   "outputs": [
    {
     "data": {
      "text/plain": [
       "11-element Vector{Int64}:\n",
       " 30\n",
       " 25\n",
       " 35\n",
       " 25\n",
       " 20\n",
       " 30\n",
       " 35\n",
       " 40\n",
       " 30\n",
       " 45\n",
       " 20"
      ]
     },
     "execution_count": 8,
     "metadata": {},
     "output_type": "execute_result"
    }
   ],
   "source": [
    "X = [30, 25, 35, 25, 20, 30, 35, 40, 30, 45, 20]"
   ]
  },
  {
   "cell_type": "code",
   "execution_count": 9,
   "id": "d6e41632-832d-4fda-a614-771b50af572a",
   "metadata": {},
   "outputs": [
    {
     "data": {
      "text/plain": [
       "12-element Vector{Float64}:\n",
       " 30.0\n",
       " 30.0\n",
       " 28.5\n",
       " 30.45\n",
       " 28.814999999999998\n",
       " 26.170499999999997\n",
       " 27.319349999999996\n",
       " 29.623544999999996\n",
       " 32.7364815\n",
       " 31.915537049999998\n",
       " 35.840875935\n",
       " 31.0886131545"
      ]
     },
     "execution_count": 9,
     "metadata": {},
     "output_type": "execute_result"
    }
   ],
   "source": [
    "ema(X, 0.3)"
   ]
  },
  {
   "cell_type": "code",
   "execution_count": 85,
   "id": "c828187f-fa41-484a-b562-8b893826e647",
   "metadata": {},
   "outputs": [
    {
     "data": {
      "text/plain": [
       "6-element Vector{Int64}:\n",
       "  28\n",
       "  40\n",
       "  65\n",
       " 180\n",
       "  96\n",
       " 130"
      ]
     },
     "execution_count": 85,
     "metadata": {},
     "output_type": "execute_result"
    }
   ],
   "source": [
    "X = [5, 7, 15, 22, 27, 36]\n",
    "Y = [28, 40, 65, 180, 96, 130]"
   ]
  },
  {
   "cell_type": "code",
   "execution_count": 91,
   "id": "a31bdb70-508d-4257-b340-4bb342c9ee90",
   "metadata": {},
   "outputs": [
    {
     "data": {
      "text/plain": [
       "112"
      ]
     },
     "execution_count": 91,
     "metadata": {},
     "output_type": "execute_result"
    }
   ],
   "source": [
    "s_X = sum(X)"
   ]
  },
  {
   "cell_type": "code",
   "execution_count": 92,
   "id": "cfe754fb-797c-4f39-ba89-94e4b95de357",
   "metadata": {},
   "outputs": [
    {
     "data": {
      "text/plain": [
       "539"
      ]
     },
     "execution_count": 92,
     "metadata": {},
     "output_type": "execute_result"
    }
   ],
   "source": [
    "s_Y = sum(Y)"
   ]
  },
  {
   "cell_type": "code",
   "execution_count": 93,
   "id": "4a9fbacd-cb6f-4f74-a33d-4de4b93e1231",
   "metadata": {},
   "outputs": [
    {
     "data": {
      "text/plain": [
       "12627"
      ]
     },
     "execution_count": 93,
     "metadata": {},
     "output_type": "execute_result"
    }
   ],
   "source": [
    "s_XY = sum(X.*Y)"
   ]
  },
  {
   "cell_type": "code",
   "execution_count": 94,
   "id": "d5917960-142c-4b45-a5d5-a01506d42f9f",
   "metadata": {},
   "outputs": [
    {
     "data": {
      "text/plain": [
       "2808"
      ]
     },
     "execution_count": 94,
     "metadata": {},
     "output_type": "execute_result"
    }
   ],
   "source": [
    "sum(X.^2)"
   ]
  },
  {
   "cell_type": "code",
   "execution_count": 95,
   "id": "09c814c7-b9b1-481b-bf1f-5387ec1af6d7",
   "metadata": {},
   "outputs": [
    {
     "data": {
      "text/plain": [
       "1.0964387464387464"
      ]
     },
     "execution_count": 95,
     "metadata": {},
     "output_type": "execute_result"
    }
   ],
   "source": [
    "b = ((length(X) .* s_XY) - (s_X*s_Y))/(sum(X.^2)*(length(X)-1))"
   ]
  },
  {
   "cell_type": "code",
   "execution_count": 96,
   "id": "28990443-d6a5-4a16-9c80-d991492038f0",
   "metadata": {},
   "outputs": [
    {
     "data": {
      "text/plain": [
       "69.3664767331434"
      ]
     },
     "execution_count": 96,
     "metadata": {},
     "output_type": "execute_result"
    }
   ],
   "source": [
    "a = (sum(Y) - b.*sum(X))/length(X)"
   ]
  }
 ],
 "metadata": {
  "kernelspec": {
   "display_name": "Julia 1.7.0",
   "language": "julia",
   "name": "julia-1.7"
  },
  "language_info": {
   "file_extension": ".jl",
   "mimetype": "application/julia",
   "name": "julia",
   "version": "1.7.0"
  }
 },
 "nbformat": 4,
 "nbformat_minor": 5
}
